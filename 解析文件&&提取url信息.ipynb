{
 "cells": [
  {
   "cell_type": "code",
   "execution_count": 6,
   "metadata": {},
   "outputs": [
    {
     "name": "stdout",
     "output_type": "stream",
     "text": [
      "Done.\n"
     ]
    }
   ],
   "source": [
    "#解析文件，提取url信息\n",
    "import re\n",
    "import csv\n",
    "\n",
    "input_file = \"./data/富文本.txt\"\n",
    "output_file = \"./data/url_list.csv\"\n",
    "\n",
    "# 正则表达式匹配 URL\n",
    "url_pattern = re.compile(r'http[s]?://(?:[a-zA-Z]|[0-9]|[$-_@.&+]|[!*\\(\\),]|(?:%[0-9a-fA-F][0-9a-fA-F]))+')\n",
    "\n",
    "# 打开输入和输出文件\n",
    "with open(input_file, 'r') as f_in, open(output_file, 'w', newline='') as f_out:\n",
    "    writer = csv.writer(f_out)\n",
    "    writer.writerow(['URL'])\n",
    "    \n",
    "    # 在输入文件中查找 URL\n",
    "    for line in f_in:\n",
    "        urls = url_pattern.findall(line)\n",
    "        \n",
    "        # 将找到的 URL 写入 CSV 文件\n",
    "        for url in urls:\n",
    "            writer.writerow([url])\n",
    "\n",
    "print(\"Done.\")"
   ]
  }
 ],
 "metadata": {
  "kernelspec": {
   "display_name": "mytorch",
   "language": "python",
   "name": "python3"
  },
  "language_info": {
   "codemirror_mode": {
    "name": "ipython",
    "version": 3
   },
   "file_extension": ".py",
   "mimetype": "text/x-python",
   "name": "python",
   "nbconvert_exporter": "python",
   "pygments_lexer": "ipython3",
   "version": "3.10.4"
  },
  "orig_nbformat": 4
 },
 "nbformat": 4,
 "nbformat_minor": 2
}
